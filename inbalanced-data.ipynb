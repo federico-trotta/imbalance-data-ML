{
 "cells": [
  {
   "cell_type": "markdown",
   "id": "6cae83b2",
   "metadata": {},
   "source": [
    "## Importing all the needed libraries"
   ]
  },
  {
   "cell_type": "code",
   "execution_count": 25,
   "id": "bb28d5fb",
   "metadata": {},
   "outputs": [],
   "source": [
    "import numpy as np\n",
    "import matplotlib.pyplot as plt\n",
    "\n",
    "# Undersampling/Oversampling\n",
    "from imblearn.over_sampling import RandomOverSampler\n",
    "from imblearn.under_sampling import RandomUnderSampler\n",
    "from collections import Counter\n",
    "\n",
    "# sklearn metrics\n",
    "from sklearn.metrics import accuracy_score\n",
    "from sklearn.metrics import precision_score\n",
    "from sklearn.metrics import recall_score\n",
    "from sklearn.metrics import f1_score\n",
    "from sklearn.metrics import confusion_matrix\n",
    "from sklearn.metrics import roc_curve, roc_auc_score\n",
    "# sklearn general\n",
    "from sklearn.datasets import make_classification\n",
    "from sklearn.model_selection import train_test_split\n",
    "# sklearn models\n",
    "from sklearn.linear_model import LogisticRegression\n",
    "from sklearn.neighbors import KNeighborsClassifier\n",
    "from sklearn.ensemble import RandomForestClassifier"
   ]
  },
  {
   "cell_type": "code",
   "execution_count": null,
   "id": "5b68e235",
   "metadata": {},
   "outputs": [],
   "source": []
  },
  {
   "cell_type": "markdown",
   "id": "c7636bba",
   "metadata": {},
   "source": [
    "## Creating an inbalanced class distribution"
   ]
  },
  {
   "cell_type": "code",
   "execution_count": 2,
   "id": "929a4b30",
   "metadata": {},
   "outputs": [
    {
     "data": {
      "image/png": "[encoded data removed]",
      "text/plain": [
       "<Figure size 576x432 with 1 Axes>"
      ]
     },
     "metadata": {
      "needs_background": "light"
     },
     "output_type": "display_data"
    }
   ],
   "source": [
    "# Set random seed for reproducibility\n",
    "np.random.seed(42)\n",
    "\n",
    "# Generate data for a majority class (Class 0)\n",
    "majority_class = np.random.normal(0, 1, 900)\n",
    "\n",
    "# Generate data for a minority class (Class 1)\n",
    "minority_class = np.random.normal(3, 1, 100)\n",
    "\n",
    "# Combine the majority and minority class data\n",
    "data = np.concatenate((majority_class, minority_class))\n",
    "\n",
    "# Create labels for the classes\n",
    "labels = np.concatenate((np.zeros(900), np.ones(100)))\n",
    "\n",
    "# Plot the class distribution\n",
    "plt.figure(figsize=(8, 6))\n",
    "plt.hist(data[labels == 0], bins=20, color='blue', alpha=0.6, label='Majority Class (Class 0)')\n",
    "plt.hist(data[labels == 1], bins=20, color='red', alpha=0.6, label='Minority Class (Class 1)')\n",
    "plt.xlabel('Feature Value')\n",
    "plt.ylabel('Frequency')\n",
    "plt.title('Class Distribution in an Imbalanced Dataset')\n",
    "plt.legend()\n",
    "plt.show()"
   ]
  },
  {
   "cell_type": "code",
   "execution_count": null,
   "id": "a8a7572e",
   "metadata": {},
   "outputs": [],
   "source": []
  },
  {
   "cell_type": "markdown",
   "id": "47406e55",
   "metadata": {},
   "source": [
    "## Creating an imbalanced class frequeicy"
   ]
  },
  {
   "cell_type": "code",
   "execution_count": 3,
   "id": "b0926725",
   "metadata": {},
   "outputs": [
    {
     "data": {
      "image/png": "[encoded data removed]",
      "text/plain": [
       "<Figure size 576x432 with 1 Axes>"
      ]
     },
     "metadata": {
      "needs_background": "light"
     },
     "output_type": "display_data"
    }
   ],
   "source": [
    "# Set a random seed for reproducibility\n",
    "np.random.seed(42)\n",
    "\n",
    "# Generate data for a majority class (Class 0)\n",
    "majority_class = np.random.normal(0, 1, 900)\n",
    "\n",
    "# Generate data for a minority class (Class 1)\n",
    "minority_class = np.random.normal(3, 1, 100)\n",
    "\n",
    "# Combine the majority and minority class data\n",
    "data = np.concatenate((majority_class, minority_class))\n",
    "\n",
    "# Create labels for the classes\n",
    "labels = np.concatenate((np.zeros(900), np.ones(100)))\n",
    "\n",
    "# Count the frequencies of each class\n",
    "class_counts = [len(labels[labels == 0]), len(labels[labels == 1])]\n",
    "\n",
    "# Plot the class frequencies using a bar chart\n",
    "plt.figure(figsize=(8, 6))\n",
    "plt.bar(['Majority Class (Class 0)', 'Minority Class (Class 1)'], class_counts, color=['blue', 'red'])\n",
    "plt.xlabel('Classes')\n",
    "plt.ylabel('Frequency')\n",
    "plt.title('Class Frequencies in an Imbalanced Dataset')\n",
    "plt.show()"
   ]
  },
  {
   "cell_type": "code",
   "execution_count": null,
   "id": "03aa0151",
   "metadata": {},
   "outputs": [],
   "source": []
  },
  {
   "cell_type": "markdown",
   "id": "4f4b7273",
   "metadata": {},
   "source": [
    "## Calculating accuracy"
   ]
  },
  {
   "cell_type": "code",
   "execution_count": 6,
   "id": "5b3485f2",
   "metadata": {},
   "outputs": [
    {
     "name": "stdout",
     "output_type": "stream",
     "text": [
      "Accuracy: 0.5\n"
     ]
    }
   ],
   "source": [
    "# True labels\n",
    "true_labels = [0, 0, 0, 0, 0, 1, 1, 1, 1, 1]\n",
    "\n",
    "# Predicted labels by a model\n",
    "predicted_labels = [0, 0, 0, 0, 0, 0, 0, 0, 0, 0]\n",
    "\n",
    "accuracy = accuracy_score(true_labels, predicted_labels)\n",
    "print(\"Accuracy:\", accuracy)"
   ]
  },
  {
   "cell_type": "code",
   "execution_count": null,
   "id": "a63d4084",
   "metadata": {},
   "outputs": [],
   "source": []
  },
  {
   "cell_type": "markdown",
   "id": "b7c0965c",
   "metadata": {},
   "source": [
    "## Calculating precision"
   ]
  },
  {
   "cell_type": "code",
   "execution_count": 9,
   "id": "bc13b554",
   "metadata": {},
   "outputs": [
    {
     "name": "stdout",
     "output_type": "stream",
     "text": [
      "Precision: 0.5\n"
     ]
    }
   ],
   "source": [
    "# True labels \n",
    "true_labels = [0, 0, 0, 0, 0, 1, 1, 1, 1, 1]\n",
    "\n",
    "# Predicted labels by a model\n",
    "predicted_labels = [1, 1, 1, 1, 1, 1, 1, 1, 1, 1]\n",
    "\n",
    "precision = precision_score(true_labels, predicted_labels)\n",
    "print(\"Precision:\", precision)"
   ]
  },
  {
   "cell_type": "code",
   "execution_count": null,
   "id": "2173f63b",
   "metadata": {},
   "outputs": [],
   "source": []
  },
  {
   "cell_type": "markdown",
   "id": "9e7015a4",
   "metadata": {},
   "source": [
    "## Calculatign recall"
   ]
  },
  {
   "cell_type": "code",
   "execution_count": 11,
   "id": "e04ed4e1",
   "metadata": {},
   "outputs": [
    {
     "name": "stdout",
     "output_type": "stream",
     "text": [
      "Recall: 1.0\n"
     ]
    }
   ],
   "source": [
    "# True labels\n",
    "true_labels = [0, 0, 0, 0, 0, 1, 1, 1, 1, 1]\n",
    "\n",
    "# Predicted labels by a model\n",
    "predicted_labels = [1, 1, 1, 1, 1, 1, 1, 1, 1, 1]\n",
    "\n",
    "recall = recall_score(true_labels, predicted_labels)\n",
    "print(\"Recall:\", recall)"
   ]
  },
  {
   "cell_type": "code",
   "execution_count": null,
   "id": "d1678d22",
   "metadata": {},
   "outputs": [],
   "source": []
  },
  {
   "cell_type": "markdown",
   "id": "a0c07c53",
   "metadata": {},
   "source": [
    "## Calculating f1-score"
   ]
  },
  {
   "cell_type": "code",
   "execution_count": 13,
   "id": "4b925290",
   "metadata": {},
   "outputs": [
    {
     "name": "stdout",
     "output_type": "stream",
     "text": [
      "F1-Score: 0.6666666666666666\n"
     ]
    }
   ],
   "source": [
    "# True labels\n",
    "true_labels = [0, 0, 0, 0, 0, 1, 1, 1, 1, 1]\n",
    "\n",
    "# Predicted labels by a model\n",
    "predicted_labels = [1, 1, 1, 1, 1, 1, 1, 1, 1, 1]\n",
    "\n",
    "# Calculate and print F1-score\n",
    "f1 = f1_score(true_labels, predicted_labels)\n",
    "print(\"F1-Score:\", f1)"
   ]
  },
  {
   "cell_type": "code",
   "execution_count": null,
   "id": "a97e51bf",
   "metadata": {},
   "outputs": [],
   "source": []
  },
  {
   "cell_type": "markdown",
   "id": "7e544ab2",
   "metadata": {},
   "source": [
    "## Creating a confusion matrix"
   ]
  },
  {
   "cell_type": "code",
   "execution_count": 15,
   "id": "d7840ba2",
   "metadata": {},
   "outputs": [
    {
     "name": "stdout",
     "output_type": "stream",
     "text": [
      "Confusion Matrix:\n",
      "[[5 0]\n",
      " [1 4]]\n"
     ]
    }
   ],
   "source": [
    "# True and predicted labels\n",
    "true_labels = [0, 0, 0, 0, 0, 1, 1, 1, 1, 1]\n",
    "predicted_labels = [0, 0, 0, 0, 0, 1, 1, 1, 0, 1]\n",
    "\n",
    "# Create confusion mateix\n",
    "cm = confusion_matrix(true_labels, predicted_labels)\n",
    "\n",
    "# Print confusion matrix\n",
    "print(\"Confusion Matrix:\")\n",
    "print(cm)"
   ]
  },
  {
   "cell_type": "code",
   "execution_count": null,
   "id": "5dab497f",
   "metadata": {},
   "outputs": [],
   "source": []
  },
  {
   "cell_type": "markdown",
   "id": "092910ea",
   "metadata": {},
   "source": [
    "## Creating an AUC/ROC curve"
   ]
  },
  {
   "cell_type": "code",
   "execution_count": 17,
   "id": "b6148b8c",
   "metadata": {},
   "outputs": [
    {
     "data": {
      "image/png": "[encoded data removed]",
      "text/plain": [
       "<Figure size 432x288 with 1 Axes>"
      ]
     },
     "metadata": {
      "needs_background": "light"
     },
     "output_type": "display_data"
    }
   ],
   "source": [
    "# Generate a random binary classification dataset\n",
    "X, y = make_classification(n_samples=1000, n_features=10, n_classes=2,\n",
    "       random_state=42)\n",
    "\n",
    "# Split the dataset into training and testing sets\n",
    "X_train, X_test, y_train, y_test = train_test_split(X, y,\n",
    "                                  test_size=0.2, random_state=42)\n",
    "\n",
    "# Fit a logistic regression model on the training data\n",
    "model = LogisticRegression()\n",
    "model.fit(X_train, y_train)\n",
    "\n",
    "# Predict probabilities for the testing data\n",
    "probs = model.predict_proba(X_test)\n",
    "\n",
    "# Compute the ROC curve and AUC score\n",
    "fpr, tpr, thresholds = roc_curve(y_test, probs[:, 1])\n",
    "auc_score = roc_auc_score(y_test, probs[:, 1])\n",
    "\n",
    "# Plot the ROC curve\n",
    "plt.plot(fpr, tpr, label='AUC = {:.2f}'.format(auc_score))\n",
    "plt.plot([0, 1], [0, 1], 'k--')\n",
    "plt.xlabel('False Positive Rate')\n",
    "plt.ylabel('True Positive Rate')\n",
    "plt.title('ROC Curve')\n",
    "plt.legend(loc='lower right')\n",
    "plt.show()"
   ]
  },
  {
   "cell_type": "code",
   "execution_count": null,
   "id": "12ca22ae",
   "metadata": {},
   "outputs": [],
   "source": []
  },
  {
   "cell_type": "markdown",
   "id": "f9e6b697",
   "metadata": {},
   "source": [
    "## Oversampling"
   ]
  },
  {
   "cell_type": "code",
   "execution_count": 20,
   "id": "6e1d6c12",
   "metadata": {},
   "outputs": [
    {
     "data": {
      "image/png": "[encoded data removed]",
      "text/plain": [
       "<Figure size 720x432 with 1 Axes>"
      ]
     },
     "metadata": {
      "needs_background": "light"
     },
     "output_type": "display_data"
    },
    {
     "data": {
      "image/png": "[encoded data removed]",
      "text/plain": [
       "<Figure size 720x432 with 1 Axes>"
      ]
     },
     "metadata": {
      "needs_background": "light"
     },
     "output_type": "display_data"
    }
   ],
   "source": [
    "# Create an imbalanced dataset with 3 classes\n",
    "X, y = make_classification(\n",
    "    n_samples=1000,\n",
    "    n_features=20,\n",
    "    n_classes=3,\n",
    "    n_clusters_per_class=1,\n",
    "    weights=[0.1, 0.3, 0.6],  # Class imbalance\n",
    "    random_state=42\n",
    ")\n",
    "\n",
    "# Print the histogram of the initial classes\n",
    "plt.figure(figsize=(10, 6))\n",
    "plt.hist(y, bins=range(4), align='left', rwidth=0.8, color='blue', alpha=0.7)\n",
    "plt.title(\"Histogram of Initial Classes\")\n",
    "plt.xlabel(\"Class\")\n",
    "plt.ylabel(\"Number of Instances\")\n",
    "plt.xticks(range(3), ['Class 0', 'Class 1', 'Class 2'])\n",
    "plt.show()\n",
    "\n",
    "# Apply oversampling using RandomOverSampler\n",
    "oversampler = RandomOverSampler(sampling_strategy='auto', random_state=42)\n",
    "X_resampled, y_resampled = oversampler.fit_resample(X, y)\n",
    "\n",
    "# Print the histogram of the resampled classes\n",
    "plt.figure(figsize=(10, 6))\n",
    "plt.hist(y_resampled, bins=range(4), align='left', rwidth=0.8, color='orange', alpha=0.7)\n",
    "plt.title(\"Histogram of Resampled Classes (Oversampling)\")\n",
    "plt.xlabel(\"Class\")\n",
    "plt.ylabel(\"Number of Instances\")\n",
    "plt.xticks(range(3), ['Class 0', 'Class 1', 'Class 2'])\n",
    "plt.show()"
   ]
  },
  {
   "cell_type": "code",
   "execution_count": null,
   "id": "71c9ae89",
   "metadata": {},
   "outputs": [],
   "source": []
  },
  {
   "cell_type": "markdown",
   "id": "45e43453",
   "metadata": {},
   "source": [
    "## Undersampling"
   ]
  },
  {
   "cell_type": "code",
   "execution_count": 22,
   "id": "966ab92c",
   "metadata": {},
   "outputs": [
    {
     "data": {
      "image/png": "[encoded data removed]",
      "text/plain": [
       "<Figure size 720x432 with 1 Axes>"
      ]
     },
     "metadata": {
      "needs_background": "light"
     },
     "output_type": "display_data"
    },
    {
     "data": {
      "image/png": "[encoded data removed]",
      "text/plain": [
       "<Figure size 720x432 with 1 Axes>"
      ]
     },
     "metadata": {
      "needs_background": "light"
     },
     "output_type": "display_data"
    }
   ],
   "source": [
    "# Create an imbalanced dataset with 3 classes\n",
    "X, y = make_classification(\n",
    "    n_samples=1000,\n",
    "    n_features=20,\n",
    "    n_classes=3,\n",
    "    n_clusters_per_class=1,\n",
    "    weights=[0.1, 0.3, 0.6],  # Class imbalance\n",
    "    random_state=42\n",
    ")\n",
    "\n",
    "# Print the histogram of the initial classes\n",
    "plt.figure(figsize=(10, 6))\n",
    "plt.hist(y, bins=range(4), align='left', rwidth=0.8, color='blue', alpha=0.7)\n",
    "plt.title(\"Histogram of Initial Classes\")\n",
    "plt.xlabel(\"Class\")\n",
    "plt.ylabel(\"Number of Instances\")\n",
    "plt.xticks(range(3), ['Class 0', 'Class 1', 'Class 2'])\n",
    "plt.show()\n",
    "\n",
    "# Apply undersampling using RandomUnderSampler\n",
    "undersampler = RandomUnderSampler(sampling_strategy='auto', random_state=42)\n",
    "X_resampled, y_resampled = undersampler.fit_resample(X, y)\n",
    "\n",
    "# Print the histogram of the resampled classes\n",
    "plt.figure(figsize=(10, 6))\n",
    "plt.hist(y_resampled, bins=range(4), align='left', rwidth=0.8, color='orange', alpha=0.7)\n",
    "plt.title(\"Histogram of Resampled Classes (Undersampling)\")\n",
    "plt.xlabel(\"Class\")\n",
    "plt.ylabel(\"Number of Instances\")\n",
    "plt.xticks(range(3), ['Class 0', 'Class 1', 'Class 2'])\n",
    "plt.show()"
   ]
  },
  {
   "cell_type": "code",
   "execution_count": null,
   "id": "b6644de3",
   "metadata": {},
   "outputs": [],
   "source": []
  },
  {
   "cell_type": "markdown",
   "id": "1886d498",
   "metadata": {},
   "source": [
    "## Undersampling and oversampling a KNN algorithm"
   ]
  },
  {
   "cell_type": "code",
   "execution_count": 24,
   "id": "626c933a",
   "metadata": {},
   "outputs": [
    {
     "name": "stdout",
     "output_type": "stream",
     "text": [
      "Accuracy on Original Train Set: 0.9125\n",
      "Accuracy on Oversampled Train Set: 0.9514767932489452\n",
      "Accuracy on Undersampled Train Set: 0.85\n",
      "\n",
      "Accuracy on Original Test Set: 0.885\n",
      "Accuracy on Oversampled Test Set: 0.79\n",
      "Accuracy on Undersampled Test Set: 0.805\n"
     ]
    }
   ],
   "source": [
    "# Create an imbalanced dataset with 3 classes\n",
    "X, y = make_classification(\n",
    "    n_samples=1000,\n",
    "    n_features=20,\n",
    "    n_classes=3,\n",
    "    n_clusters_per_class=1,\n",
    "    weights=[0.1, 0.3, 0.6],  # Class imbalance\n",
    "    random_state=42\n",
    ")\n",
    "\n",
    "# Split the original dataset into train and test sets\n",
    "X_train, X_test, y_train, y_test = train_test_split(X, y, test_size=0.2, random_state=42)\n",
    "\n",
    "# Apply oversampling using RandomOverSampler\n",
    "oversampler = RandomOverSampler(sampling_strategy='auto', random_state=42)\n",
    "X_train_oversampled, y_train_oversampled = oversampler.fit_resample(X_train, y_train)\n",
    "\n",
    "# Apply undersampling using RandomUnderSampler\n",
    "undersampler = RandomUnderSampler(sampling_strategy='auto', random_state=42)\n",
    "X_train_undersampled, y_train_undersampled = undersampler.fit_resample(X_train, y_train)\n",
    "\n",
    "# Fit KNN classifier on the original train set\n",
    "knn_original = KNeighborsClassifier(n_neighbors=5)\n",
    "knn_original.fit(X_train, y_train)\n",
    "\n",
    "# Fit KNN classifier on the oversampled train set\n",
    "knn_oversampled = KNeighborsClassifier(n_neighbors=5)\n",
    "knn_oversampled.fit(X_train_oversampled, y_train_oversampled)\n",
    "\n",
    "# Fit KNN classifier on the undersampled train set\n",
    "knn_undersampled = KNeighborsClassifier(n_neighbors=5)\n",
    "knn_undersampled.fit(X_train_undersampled, y_train_undersampled)\n",
    "\n",
    "# Make predictions on train sets\n",
    "y_train_pred_original = knn_original.predict(X_train)\n",
    "y_train_pred_oversampled = knn_oversampled.predict(X_train_oversampled)\n",
    "y_train_pred_undersampled = knn_undersampled.predict(X_train_undersampled)\n",
    "\n",
    "# Make predictions on test sets\n",
    "y_test_pred_original = knn_original.predict(X_test)\n",
    "y_test_pred_oversampled = knn_oversampled.predict(X_test)\n",
    "y_test_pred_undersampled = knn_undersampled.predict(X_test)\n",
    "\n",
    "# Calculate and print accuracy for train sets\n",
    "print(\"Accuracy on Original Train Set:\", accuracy_score(y_train, y_train_pred_original))\n",
    "print(\"Accuracy on Oversampled Train Set:\", accuracy_score(y_train_oversampled, y_train_pred_oversampled))\n",
    "print(\"Accuracy on Undersampled Train Set:\", accuracy_score(y_train_undersampled, y_train_pred_undersampled))\n",
    "\n",
    "# Calculate and print accuracy for test sets\n",
    "print(\"\\nAccuracy on Original Test Set:\", accuracy_score(y_test, y_test_pred_original))\n",
    "print(\"Accuracy on Oversampled Test Set:\", accuracy_score(y_test, y_test_pred_oversampled))\n",
    "print(\"Accuracy on Undersampled Test Set:\", accuracy_score(y_test, y_test_pred_undersampled))"
   ]
  },
  {
   "cell_type": "code",
   "execution_count": null,
   "id": "7f857129",
   "metadata": {},
   "outputs": [],
   "source": []
  },
  {
   "cell_type": "markdown",
   "id": "aba6d7fe",
   "metadata": {},
   "source": [
    "## Using a Random Forest classifier"
   ]
  },
  {
   "cell_type": "code",
   "execution_count": 26,
   "id": "986c5f89",
   "metadata": {},
   "outputs": [
    {
     "name": "stdout",
     "output_type": "stream",
     "text": [
      "Accuracy on Train Set: 1.0\n",
      "Accuracy on Test Set: 0.97\n"
     ]
    }
   ],
   "source": [
    "# Create an imbalanced dataset with 3 classes\n",
    "X, y = make_classification(\n",
    "    n_samples=1000,\n",
    "    n_features=20,\n",
    "    n_classes=3,\n",
    "    n_clusters_per_class=1,\n",
    "    weights=[0.1, 0.3, 0.6],  # Class imbalance\n",
    "    random_state=42\n",
    ")\n",
    "\n",
    "# Split the dataset into train and test sets\n",
    "X_train, X_test, y_train, y_test = train_test_split(X, y, test_size=0.2, random_state=42)\n",
    "\n",
    "# Fit Random Forest classifier on the train set\n",
    "rf_classifier = RandomForestClassifier(random_state=42)\n",
    "rf_classifier.fit(X_train, y_train)\n",
    "\n",
    "# Make predictions on train and test sets\n",
    "y_train_pred = rf_classifier.predict(X_train)\n",
    "y_test_pred = rf_classifier.predict(X_test)\n",
    "\n",
    "# Calculate and print accuracy for the train set\n",
    "train_accuracy = accuracy_score(y_train, y_train_pred)\n",
    "print(\"Accuracy on Train Set:\", train_accuracy)\n",
    "\n",
    "# Calculate and print accuracy for the test set\n",
    "test_accuracy = accuracy_score(y_test, y_test_pred)\n",
    "print(\"Accuracy on Test Set:\", test_accuracy)"
   ]
  },
  {
   "cell_type": "code",
   "execution_count": null,
   "id": "2e2f70a7",
   "metadata": {},
   "outputs": [],
   "source": []
  }
 ],
 "metadata": {
  "kernelspec": {
   "display_name": "Python 3 (ipykernel)",
   "language": "python",
   "name": "python3"
  },
  "language_info": {
   "codemirror_mode": {
    "name": "ipython",
    "version": 3
   },
   "file_extension": ".py",
   "mimetype": "text/x-python",
   "name": "python",
   "nbconvert_exporter": "python",
   "pygments_lexer": "ipython3",
   "version": "3.9.12"
  }
 },
 "nbformat": 4,
 "nbformat_minor": 5
}
